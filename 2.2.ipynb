{
 "cells": [
  {
   "cell_type": "code",
   "execution_count": 9,
   "id": "ae91fe29",
   "metadata": {},
   "outputs": [
    {
     "name": "stdout",
     "output_type": "stream",
     "text": [
      "Введите номер месяца: 10\n",
      "Осень\n"
     ]
    }
   ],
   "source": [
    "\"\"\"\n",
    "С клавиатуры вводится цифра (от 1 до 12). Вывести на экран название месяца,\n",
    "соответствующего цифре\n",
    "\"\"\"\n",
    "\n",
    "m = int(input(\"Введите номер месяца: \"))\n",
    "if m == 1 or m == 2 or m == 12:\n",
    "    print(\"Зима\")\n",
    "elif m >= 3 and m <= 5:\n",
    "    print(\"Весна\")\n",
    "elif m >= 6 and m <= 8:\n",
    "    print(\"Лето\")\n",
    "elif m >= 9 and m <= 11:\n",
    "    print(\"Осень\")\n",
    "else:\n",
    "    print(\"Ошибка\")"
   ]
  },
  {
   "cell_type": "code",
   "execution_count": 63,
   "id": "63835e0b",
   "metadata": {},
   "outputs": [
    {
     "name": "stdout",
     "output_type": "stream",
     "text": [
      "1\n",
      "-10\n",
      "9\n",
      "1.0\n",
      "0.5773502691896257\n",
      "4 корня:  3.0 , -3.0 , 1.0 , -1.0\n"
     ]
    }
   ],
   "source": [
    "\"\"\"\n",
    "Провести исследование биквадратного уравнения ax^4+bx^1+c=0 (a не = 0 ), где a, b и c -\n",
    "действительные числа. Если действительных корней нет, то об этом должно быть выдано\n",
    "сообщение, иначе должны быть выданы 2 или 4 действительных корня.\n",
    "\"\"\"\n",
    "\n",
    "import math\n",
    "a = float(input())\n",
    "b = float(input())\n",
    "c = float(input())\n",
    "D = pow(b,2)- (4 * a * c)\n",
    "\n",
    "if a == 0:\n",
    "    if b == 0 and (c == 0 or c != 0):\n",
    "        print(3)\n",
    "    if b != 0 and (c != 0 or c == 0):\n",
    "        x = -(c / b)\n",
    "       \n",
    "else:\n",
    "    if D > 0:\n",
    "        x1= ((-b) - (math.sqrt(D)))/ (2 * a)\n",
    "        print(x1)\n",
    "        if(x1>0):\n",
    "            x1 = math.sqrt(x1)\n",
    "        else:\n",
    "            x1 = 0\n",
    "        x2= ((-b) + (math.sqrt(D)))/ (2 * a)\n",
    "        print(x)\n",
    "        if(x2>0):\n",
    "            x2 = math.sqrt(x2)\n",
    "        else:\n",
    "            x2 = 0\n",
    "        if(x1==0 and x2==0):\n",
    "            print(\"Корней нет\")\n",
    "        elif (x1==0 and x2>0):\n",
    "            print(\"2 корня: \",x2,\",\",x2*-1)\n",
    "        elif (x1>0 and x2==0):\n",
    "            print(\"2 корня: \",x1,\",\",x1*-1)\n",
    "        else:\n",
    "            print(\"4 корня: \",x2,\",\",x2*-1, \",\",x1,\",\", x1*-1)\n",
    "    elif D == 0:\n",
    "        x = ((-b) / (2 * a))**0.5\n",
    "        print(\"2 корня: \",x,\",\",x*-1)\n",
    "    elif D < 0:\n",
    "        print(\"Корней нет\")"
   ]
  },
  {
   "cell_type": "code",
   "execution_count": 5,
   "id": "dcea42df",
   "metadata": {},
   "outputs": [
    {
     "name": "stdout",
     "output_type": "stream",
     "text": [
      "10\n",
      "12\n",
      "18\n",
      "20\n",
      "21\n",
      "24\n",
      "27\n",
      "30\n",
      "36\n",
      "40\n",
      "42\n",
      "45\n",
      "48\n",
      "50\n",
      "54\n",
      "60\n",
      "63\n",
      "70\n",
      "72\n",
      "80\n",
      "81\n",
      "84\n",
      "90\n"
     ]
    }
   ],
   "source": [
    "\"\"\"\n",
    "Определить среди всех двузначных чисел те, которые делятся на сумму своих цифр\n",
    "\"\"\"\n",
    "\n",
    "for i in range(10,100):\n",
    "    sum = i / 10 + i % 10\n",
    "    if (i % int(sum) == 0):\n",
    "        print(i)\n"
   ]
  },
  {
   "cell_type": "code",
   "execution_count": 1,
   "id": "e88b5d12",
   "metadata": {},
   "outputs": [
    {
     "name": "stdout",
     "output_type": "stream",
     "text": [
      "Введите x: 5\n",
      "Введите n: 5\n",
      "In(5.0) = 97.65625\n"
     ]
    }
   ],
   "source": [
    "\"\"\"\n",
    "Функция Бесселя первого рода In(x), значение n = 1,2,... также должно вводиться с\n",
    "клавиатуры\n",
    "\"\"\"\n",
    "\n",
    "\n",
    "import math\n",
    "import sys\n",
    "\n",
    "#Точность вычислений\n",
    "EPS = 1e-10\n",
    "\n",
    "x = float(input(\"Введите x: \"))\n",
    "n = int(input(\"Введите n: \"))\n",
    "if x == 0:\n",
    "   print(\"Недопустимое значение x\", file=sys.stderr)\n",
    "   exit(1)\n",
    "a = x\n",
    "S, k = a, 0\n",
    "    \n",
    "while math.fabs(a) > EPS:\n",
    "   \n",
    "   a *= ((x**2/4)**math.factorial(k)*(math.factorial(k)*math.factorial(k+n)))/((k+1)*math.factorial(k+1+n)*(x**2/4)**math.factorial(k+1))\n",
    "\n",
    "   S += a\n",
    "   k += 1\n",
    "    \n",
    "print(f\"In({x}) = {a+(x/2)**n}\")"
   ]
  },
  {
   "cell_type": "code",
   "execution_count": null,
   "id": "ff790c3d",
   "metadata": {},
   "outputs": [],
   "source": []
  }
 ],
 "metadata": {
  "kernelspec": {
   "display_name": "Python 3 (ipykernel)",
   "language": "python",
   "name": "python3"
  },
  "language_info": {
   "codemirror_mode": {
    "name": "ipython",
    "version": 3
   },
   "file_extension": ".py",
   "mimetype": "text/x-python",
   "name": "python",
   "nbconvert_exporter": "python",
   "pygments_lexer": "ipython3",
   "version": "3.9.7"
  }
 },
 "nbformat": 4,
 "nbformat_minor": 5
}
